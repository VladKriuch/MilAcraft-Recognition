{
  "nbformat": 4,
  "nbformat_minor": 0,
  "metadata": {
    "colab": {
      "provenance": [],
      "gpuType": "T4"
    },
    "kernelspec": {
      "name": "python3",
      "display_name": "Python 3"
    },
    "language_info": {
      "name": "python"
    },
    "accelerator": "GPU"
  },
  "cells": [
    {
      "cell_type": "code",
      "execution_count": 1,
      "metadata": {
        "id": "p4r_DOYl7WCh"
      },
      "outputs": [],
      "source": [
        " # Start from installing kaggle\n",
        " !pip install -q kaggle"
      ]
    },
    {
      "cell_type": "code",
      "source": [
        "!mkdir ~/.kaggle"
      ],
      "metadata": {
        "id": "cyIUBepI7eVG"
      },
      "execution_count": 2,
      "outputs": []
    },
    {
      "cell_type": "code",
      "source": [
        "!cp kaggle.json ~/.kaggle/"
      ],
      "metadata": {
        "id": "ReI3axga7fhA"
      },
      "execution_count": 4,
      "outputs": []
    },
    {
      "cell_type": "code",
      "source": [
        "# Download dataset\n",
        "!kaggle datasets download -d khlaifiabilel/military-aircraft-recognition-dataset"
      ],
      "metadata": {
        "colab": {
          "base_uri": "https://localhost:8080/"
        },
        "id": "Vv6kV8Ib7gj5",
        "outputId": "12183c54-4c46-4581-efb5-3febd6f3e497"
      },
      "execution_count": 5,
      "outputs": [
        {
          "output_type": "stream",
          "name": "stdout",
          "text": [
            "Warning: Your Kaggle API key is readable by other users on this system! To fix this, you can run 'chmod 600 /root/.kaggle/kaggle.json'\n",
            "Downloading military-aircraft-recognition-dataset.zip to /content\n",
            "100% 1.12G/1.13G [00:55<00:00, 20.4MB/s]\n",
            "100% 1.13G/1.13G [00:55<00:00, 21.9MB/s]\n"
          ]
        }
      ]
    },
    {
      "cell_type": "code",
      "source": [
        "# Unzip dataset to data folder\n",
        "!unzip military-aircraft-recognition-dataset.zip -d \"data\""
      ],
      "metadata": {
        "id": "Z40wbzcbvhk2"
      },
      "execution_count": null,
      "outputs": []
    },
    {
      "cell_type": "code",
      "source": [
        "# Paths\n",
        "ROOT_DIR = \"data/\"\n",
        "IMAGE_DIR = ROOT_DIR + \"JPEGImages/\"\n",
        "HORIZONTAL_BB = ROOT_DIR + \"Annotations/Horizontal Bounding Boxes/\"\n",
        "ORIENTED_BB = ROOT_DIR + \"Annotations/Oriented Bounding Boxes/\"\n",
        "\n",
        "TRAIN_SET_TXT = ROOT_DIR + \"ImageSets/Main/train.txt\"\n",
        "TEST_SET_TXT = ROOT_DIR + \"ImageSets/Main/test.txt\""
      ],
      "metadata": {
        "id": "lxl8ftWv7nzb"
      },
      "execution_count": 7,
      "outputs": []
    },
    {
      "cell_type": "code",
      "source": [
        "# Imports\n",
        "import random\n",
        "import os\n",
        "import xml.etree.ElementTree as ET\n",
        "import shutil\n",
        "import yaml\n",
        "\n",
        "import cv2\n",
        "import pandas as pd\n",
        "import numpy as np\n",
        "import seaborn as sns\n",
        "\n",
        "from matplotlib import pyplot as plt\n",
        "from mpl_toolkits.axes_grid1 import ImageGrid"
      ],
      "metadata": {
        "id": "9OjJESIi7qQc"
      },
      "execution_count": 8,
      "outputs": []
    },
    {
      "cell_type": "code",
      "source": [
        "# Set seed\n",
        "random.seed(1991)"
      ],
      "metadata": {
        "id": "eZ8NCqpF7ra-"
      },
      "execution_count": 9,
      "outputs": []
    },
    {
      "cell_type": "code",
      "source": [
        "# Reading xml files\n",
        "# XML reader\n",
        "def parse_xml(xml_file_path: str):\n",
        "    # Parses xml file, returns dict\n",
        "    tree = ET.parse(xml_file_path)\n",
        "\n",
        "    filename = tree.find('filename').text\n",
        "    img_size = {\n",
        "        'width': int(tree.find('size').find('width').text),\n",
        "        'height': int(tree.find('size').find('height').text),\n",
        "        'depth': int(tree.find('size').find('depth').text)\n",
        "    }\n",
        "    segmented = int(tree.find('segmented').text)\n",
        "    bboxes = []\n",
        "    for obj in tree.findall('object'):\n",
        "        bndbox = obj.find('bndbox')\n",
        "        bboxes.append({\n",
        "            'name': obj.find('name').text,\n",
        "            'xmin': int(bndbox.find('xmin').text),\n",
        "            'ymin': int(bndbox.find('ymin').text),\n",
        "            'xmax': int(bndbox.find('xmax').text),\n",
        "            'ymax': int(bndbox.find('ymax').text)\n",
        "        })\n",
        "    database = tree.find('source').find('database').text\n",
        "\n",
        "    return {\n",
        "        'filename': filename,\n",
        "        'img_size': img_size,\n",
        "        'segmented': segmented,\n",
        "        'bboxes': bboxes,\n",
        "        'database': database\n",
        "    }\n",
        "\n",
        "def get_xml_file_path(filename, option='HORIZONTAL'):\n",
        "    if option == 'HORIZONTAL':\n",
        "        return HORIZONTAL_BB + filename\n",
        "    elif option == 'ORIENTED':\n",
        "        return ORIENTED_BB + filename"
      ],
      "metadata": {
        "id": "R0NpKnvL7sfR"
      },
      "execution_count": 10,
      "outputs": []
    },
    {
      "cell_type": "code",
      "source": [
        "# Convert classes to classes_map for YOLO model\n",
        "classes = ['A19', 'A1', 'A20', 'A16', 'A5', 'A13', 'A15', 'A3', 'A17', 'A11',\n",
        "       'A14', 'A8', 'A2', 'A10', 'A9', 'A4', 'A18', 'A7', 'A12', 'A6']\n",
        "\n",
        "classes_map = {item: index for index, item in enumerate(classes)}\n",
        "classes_map"
      ],
      "metadata": {
        "colab": {
          "base_uri": "https://localhost:8080/"
        },
        "id": "ucB6iSSC7tfM",
        "outputId": "aedcdca1-e8be-4172-eab4-159b11585d6b"
      },
      "execution_count": 11,
      "outputs": [
        {
          "output_type": "execute_result",
          "data": {
            "text/plain": [
              "{'A19': 0,\n",
              " 'A1': 1,\n",
              " 'A20': 2,\n",
              " 'A16': 3,\n",
              " 'A5': 4,\n",
              " 'A13': 5,\n",
              " 'A15': 6,\n",
              " 'A3': 7,\n",
              " 'A17': 8,\n",
              " 'A11': 9,\n",
              " 'A14': 10,\n",
              " 'A8': 11,\n",
              " 'A2': 12,\n",
              " 'A10': 13,\n",
              " 'A9': 14,\n",
              " 'A4': 15,\n",
              " 'A18': 16,\n",
              " 'A7': 17,\n",
              " 'A12': 18,\n",
              " 'A6': 19}"
            ]
          },
          "metadata": {},
          "execution_count": 11
        }
      ]
    },
    {
      "cell_type": "code",
      "source": [
        "# Get train and test ids\n",
        "def get_train_set_ids():\n",
        "    with open(TRAIN_SET_TXT, 'r') as file:\n",
        "        ids = file.read().splitlines()\n",
        "    return ids\n",
        "\n",
        "def get_test_set_ids():\n",
        "    with open(TEST_SET_TXT, 'r') as file:\n",
        "        ids = file.read().splitlines()\n",
        "    return ids\n",
        "\n",
        "train_set_ids = get_train_set_ids()\n",
        "test_set_ids = get_test_set_ids()\n",
        "print(f'Size of train set is: {len(train_set_ids)}')\n",
        "print(f'Size of test set is: {len(test_set_ids)}')\n",
        "print(f'Total images: {len(train_set_ids) + len(test_set_ids)}')"
      ],
      "metadata": {
        "colab": {
          "base_uri": "https://localhost:8080/"
        },
        "id": "WE9z-T1D7ups",
        "outputId": "93b2ee8f-7359-4327-9f45-f7a0e6175d50"
      },
      "execution_count": 12,
      "outputs": [
        {
          "output_type": "stream",
          "name": "stdout",
          "text": [
            "Size of train set is: 1331\n",
            "Size of test set is: 2511\n",
            "Total images: 3842\n"
          ]
        }
      ]
    },
    {
      "cell_type": "code",
      "source": [
        "# Helping functions\n",
        "# Displaying images\n",
        "\n",
        "def get_image(image_path: str):\n",
        "    img = cv2.imread(image_path)\n",
        "    return cv2.cvtColor(img, cv2.COLOR_BGR2RGB)\n",
        "\n",
        "\n",
        "def get_image_shape(image_path: str):\n",
        "    img = cv2.imread(image_path)\n",
        "    return img.shape\n",
        "\n",
        "def get_image_from_id(obj_id: str):\n",
        "    image_path = IMAGE_DIR + obj_id + \".jpg\"\n",
        "    return get_image(image_path)\n",
        "\n",
        "def display_image(image_name: str):\n",
        "    image_path = IMAGE_DIR + image_name\n",
        "    plt.imshow(get_image(image_path))\n",
        "\n",
        "def get_random_img_names():\n",
        "    return random.sample(os.listdir(IMAGE_DIR), 16)"
      ],
      "metadata": {
        "id": "4dGVWpk17xJ-"
      },
      "execution_count": 13,
      "outputs": []
    },
    {
      "cell_type": "code",
      "source": [
        "# Convert the info dict to the required yolo format and write it to disk\n",
        "def convert_to_yolov5(info_dict, obj_id, save_folder):\n",
        "    print_buffer = []\n",
        "\n",
        "    # For each bounding box\n",
        "    for b in info_dict[\"bboxes\"]:\n",
        "        try:\n",
        "            class_id = classes_map[b[\"name\"]]\n",
        "        except KeyError:\n",
        "            print(\"Invalid Class. Must be one from \", classes_map.keys())\n",
        "\n",
        "        # Transform the bbox co-ordinates as per the format required by YOLO v5\n",
        "        b_center_x = (b[\"xmin\"] + b[\"xmax\"]) / 2\n",
        "        b_center_y = (b[\"ymin\"] + b[\"ymax\"]) / 2\n",
        "        b_width    = (b[\"xmax\"] - b[\"xmin\"])\n",
        "        b_height   = (b[\"ymax\"] - b[\"ymin\"])\n",
        "\n",
        "        # Normalise the co-ordinates by the dimensions of the image\n",
        "        image_h, image_w, image_c = get_image_shape(IMAGE_DIR + obj_id + \".jpg\")\n",
        "        b_center_x /= image_w\n",
        "        b_center_y /= image_h\n",
        "        b_width    /= image_w\n",
        "        b_height   /= image_h\n",
        "\n",
        "        #Write the bbox details to the file\n",
        "        print_buffer.append(\"{} {:.3f} {:.3f} {:.3f} {:.3f}\".format(class_id, b_center_x, b_center_y, b_width, b_height))\n",
        "\n",
        "    # Name of the file which we have to save\n",
        "    save_file_name = os.path.join(save_folder, obj_id + \".txt\")\n",
        "\n",
        "    # Save the annotation to disk\n",
        "    # print(\"\\n\".join(print_buffer), file= open(save_file_name, \"w\"))\n",
        "    with open(save_file_name, 'w') as fl:\n",
        "      fl.write(\"\\n\".join(print_buffer))"
      ],
      "metadata": {
        "id": "usWAY4dr7yTu"
      },
      "execution_count": 14,
      "outputs": []
    },
    {
      "cell_type": "code",
      "source": [
        "# Create appropriate folders\n",
        "!mkdir \"data for yolo\"\n",
        "!mkdir \"data for yolo/labels\"\n",
        "!mkdir \"data for yolo/images\"\n",
        "!mkdir \"data for yolo/labels/train\"\n",
        "!mkdir \"data for yolo/labels/test\"\n",
        "!mkdir \"data for yolo/images/train\"\n",
        "!mkdir \"data for yolo/images/test\""
      ],
      "metadata": {
        "id": "zn0TVwFN7zgj"
      },
      "execution_count": 15,
      "outputs": []
    },
    {
      "cell_type": "code",
      "source": [
        "# Convert dataset to yolo format\n",
        "for obj_id in train_set_ids:\n",
        "  info_dict = parse_xml(HORIZONTAL_BB + str(obj_id) + \".xml\")\n",
        "  convert_to_yolov5(info_dict, str(obj_id), \"data for yolo/labels/train/\")\n",
        "\n",
        "for obj_id in test_set_ids:\n",
        "  info_dict = parse_xml(HORIZONTAL_BB + str(obj_id) + \".xml\")\n",
        "  convert_to_yolov5(info_dict, str(obj_id), \"data for yolo/labels/test/\")"
      ],
      "metadata": {
        "id": "XvLvUrzc70yq"
      },
      "execution_count": 16,
      "outputs": []
    },
    {
      "cell_type": "code",
      "source": [
        "# Copy images to YOLO\n",
        "def move_files_to_folder(list_of_files, destination_folder):\n",
        "    for f in list_of_files:\n",
        "        try:\n",
        "            shutil.move(f, destination_folder)\n",
        "        except:\n",
        "            print(f)\n",
        "            assert False\n",
        "\n",
        "train_img_files = [IMAGE_DIR + str(obj_id) + \".jpg\" for obj_id in train_set_ids]\n",
        "test_img_files = [IMAGE_DIR + str(obj_id) + \".jpg\" for obj_id in test_set_ids]\n",
        "\n",
        "# Move the splits into their folders\n",
        "move_files_to_folder(train_img_files, 'data for yolo/images/train')\n",
        "move_files_to_folder(test_img_files, 'data for yolo/images/test')"
      ],
      "metadata": {
        "id": "5JK7fz2g72B-"
      },
      "execution_count": 17,
      "outputs": []
    },
    {
      "cell_type": "code",
      "source": [
        "class_id_to_name_mapping = dict(zip(classes_map.values(), classes_map.keys()))"
      ],
      "metadata": {
        "id": "bZAtid_T73Gv"
      },
      "execution_count": 18,
      "outputs": []
    },
    {
      "cell_type": "code",
      "source": [
        "# Make .yaml file for yolo\n",
        "d = {\n",
        "    'path':'../data for yolo/',\n",
        "    'train': 'images/train',\n",
        "    'val': 'images/test',\n",
        "    'nc': 20,\n",
        "    'names': class_id_to_name_mapping\n",
        "    }\n",
        "\n",
        "with open('dataset.yml', 'w') as yaml_file:\n",
        "    yaml.dump(d, yaml_file, default_flow_style=False)"
      ],
      "metadata": {
        "id": "s-MPYNjh74SN"
      },
      "execution_count": 19,
      "outputs": []
    },
    {
      "cell_type": "code",
      "source": [
        "# Define our hyp yaml file\n",
        "hyps = {\n",
        "     \"lr0\": 0.001,  # initial learning rate (SGD=1E-2, Adam=1E-3)\n",
        " 'lrf': 0.9,  # final OneCycleLR learning rate (lr0 * lrf)\n",
        " \"momentum\": 0.937,  # SGD momentum/Adam beta1\n",
        " \"weight_decay\": 0.0005,  # optimizer weight decay 5e-4\n",
        " \"warmup_epochs\": 3.0,  # warmup epochs (fractions ok)\n",
        " \"warmup_momentum\": 0.8,  # warmup initial momentum\n",
        " \"warmup_bias_lr\": 0.1,  # warmup initial bias lr\n",
        " \"box\": 0.05,  # box loss gain\n",
        " \"cls\": 0.5,  # cls loss gain\n",
        " \"cls_pw\": 1.0,  # cls BCELoss positive_weight\n",
        " \"obj\": 1.0,  # obj loss gain (scale with pixels)\n",
        " \"obj_pw\": 1.0,  # obj BCELoss positive_weight\n",
        " \"iou_t\": 0.20,  # IoU training threshold\n",
        " \"anchor_t\": 4.0,  # anchor-multiple threshold\n",
        " # anchors: 3  # anchors per output layer (0 to ignore)\n",
        " \"fl_gamma\": 0.0,  # focal loss gamma (efficientDet default gamma=1.5)\n",
        " \"hsv_h\": 0.015,  # image HSV-Hue augmentation (fraction)\n",
        " \"hsv_s\": 0.5,  # image HSV-Saturation augmentation (fraction)\n",
        " \"hsv_v\": 0.4,  # image HSV-Value augmentation (fraction)\n",
        " \"degrees\": 0.0,  # image rotation (+/- deg)\n",
        " \"translate\": 0.1,  # image translation (+/- fraction)\n",
        " \"scale\": 0.4,  # image scale (+/- gain)\n",
        " \"shear\": 0.00, # image shear (+/- deg)\n",
        " \"perspective\": 0.0,  # image perspective (+/- fraction), range 0-0.001\n",
        " \"flipud\": 0.0,  # image flip up-down (probability)\n",
        " \"fliplr\": 0.0,  # image flip left-right (probability)\n",
        " \"mosaic\": 1.0,  # image mosaic (probability)\n",
        " \"mixup\": 0.0,  # image mixup (probability)\n",
        " \"copy_paste\": 0.0  # segment copy-paste (probability)\n",
        "}\n",
        "\n",
        "with open('hyps.yml', 'w') as yaml_file:\n",
        "    yaml.dump(hyps, yaml_file, default_flow_style=False)"
      ],
      "metadata": {
        "id": "OIF9-0eM75MF"
      },
      "execution_count": 31,
      "outputs": []
    },
    {
      "cell_type": "code",
      "source": [
        "!pip install ultralytics"
      ],
      "metadata": {
        "colab": {
          "base_uri": "https://localhost:8080/"
        },
        "id": "GwiV5qDy8As_",
        "outputId": "c64ae202-c2fc-446e-9467-779691ceabe6"
      },
      "execution_count": 21,
      "outputs": [
        {
          "output_type": "stream",
          "name": "stdout",
          "text": [
            "Collecting ultralytics\n",
            "  Downloading ultralytics-8.0.198-py3-none-any.whl (641 kB)\n",
            "\u001b[2K     \u001b[90m━━━━━━━━━━━━━━━━━━━━━━━━━━━━━━━━━━━━━━━━\u001b[0m \u001b[32m641.7/641.7 kB\u001b[0m \u001b[31m12.9 MB/s\u001b[0m eta \u001b[36m0:00:00\u001b[0m\n",
            "\u001b[?25hRequirement already satisfied: matplotlib>=3.3.0 in /usr/local/lib/python3.10/dist-packages (from ultralytics) (3.7.1)\n",
            "Requirement already satisfied: numpy>=1.22.2 in /usr/local/lib/python3.10/dist-packages (from ultralytics) (1.23.5)\n",
            "Requirement already satisfied: opencv-python>=4.6.0 in /usr/local/lib/python3.10/dist-packages (from ultralytics) (4.8.0.76)\n",
            "Requirement already satisfied: pillow>=7.1.2 in /usr/local/lib/python3.10/dist-packages (from ultralytics) (9.4.0)\n",
            "Requirement already satisfied: pyyaml>=5.3.1 in /usr/local/lib/python3.10/dist-packages (from ultralytics) (6.0.1)\n",
            "Requirement already satisfied: requests>=2.23.0 in /usr/local/lib/python3.10/dist-packages (from ultralytics) (2.31.0)\n",
            "Requirement already satisfied: scipy>=1.4.1 in /usr/local/lib/python3.10/dist-packages (from ultralytics) (1.11.3)\n",
            "Requirement already satisfied: torch>=1.8.0 in /usr/local/lib/python3.10/dist-packages (from ultralytics) (2.0.1+cu118)\n",
            "Requirement already satisfied: torchvision>=0.9.0 in /usr/local/lib/python3.10/dist-packages (from ultralytics) (0.15.2+cu118)\n",
            "Requirement already satisfied: tqdm>=4.64.0 in /usr/local/lib/python3.10/dist-packages (from ultralytics) (4.66.1)\n",
            "Requirement already satisfied: pandas>=1.1.4 in /usr/local/lib/python3.10/dist-packages (from ultralytics) (1.5.3)\n",
            "Requirement already satisfied: seaborn>=0.11.0 in /usr/local/lib/python3.10/dist-packages (from ultralytics) (0.12.2)\n",
            "Requirement already satisfied: psutil in /usr/local/lib/python3.10/dist-packages (from ultralytics) (5.9.5)\n",
            "Requirement already satisfied: py-cpuinfo in /usr/local/lib/python3.10/dist-packages (from ultralytics) (9.0.0)\n",
            "Collecting thop>=0.1.1 (from ultralytics)\n",
            "  Downloading thop-0.1.1.post2209072238-py3-none-any.whl (15 kB)\n",
            "Requirement already satisfied: contourpy>=1.0.1 in /usr/local/lib/python3.10/dist-packages (from matplotlib>=3.3.0->ultralytics) (1.1.1)\n",
            "Requirement already satisfied: cycler>=0.10 in /usr/local/lib/python3.10/dist-packages (from matplotlib>=3.3.0->ultralytics) (0.12.1)\n",
            "Requirement already satisfied: fonttools>=4.22.0 in /usr/local/lib/python3.10/dist-packages (from matplotlib>=3.3.0->ultralytics) (4.43.1)\n",
            "Requirement already satisfied: kiwisolver>=1.0.1 in /usr/local/lib/python3.10/dist-packages (from matplotlib>=3.3.0->ultralytics) (1.4.5)\n",
            "Requirement already satisfied: packaging>=20.0 in /usr/local/lib/python3.10/dist-packages (from matplotlib>=3.3.0->ultralytics) (23.2)\n",
            "Requirement already satisfied: pyparsing>=2.3.1 in /usr/local/lib/python3.10/dist-packages (from matplotlib>=3.3.0->ultralytics) (3.1.1)\n",
            "Requirement already satisfied: python-dateutil>=2.7 in /usr/local/lib/python3.10/dist-packages (from matplotlib>=3.3.0->ultralytics) (2.8.2)\n",
            "Requirement already satisfied: pytz>=2020.1 in /usr/local/lib/python3.10/dist-packages (from pandas>=1.1.4->ultralytics) (2023.3.post1)\n",
            "Requirement already satisfied: charset-normalizer<4,>=2 in /usr/local/lib/python3.10/dist-packages (from requests>=2.23.0->ultralytics) (3.3.0)\n",
            "Requirement already satisfied: idna<4,>=2.5 in /usr/local/lib/python3.10/dist-packages (from requests>=2.23.0->ultralytics) (3.4)\n",
            "Requirement already satisfied: urllib3<3,>=1.21.1 in /usr/local/lib/python3.10/dist-packages (from requests>=2.23.0->ultralytics) (2.0.6)\n",
            "Requirement already satisfied: certifi>=2017.4.17 in /usr/local/lib/python3.10/dist-packages (from requests>=2.23.0->ultralytics) (2023.7.22)\n",
            "Requirement already satisfied: filelock in /usr/local/lib/python3.10/dist-packages (from torch>=1.8.0->ultralytics) (3.12.4)\n",
            "Requirement already satisfied: typing-extensions in /usr/local/lib/python3.10/dist-packages (from torch>=1.8.0->ultralytics) (4.5.0)\n",
            "Requirement already satisfied: sympy in /usr/local/lib/python3.10/dist-packages (from torch>=1.8.0->ultralytics) (1.12)\n",
            "Requirement already satisfied: networkx in /usr/local/lib/python3.10/dist-packages (from torch>=1.8.0->ultralytics) (3.1)\n",
            "Requirement already satisfied: jinja2 in /usr/local/lib/python3.10/dist-packages (from torch>=1.8.0->ultralytics) (3.1.2)\n",
            "Requirement already satisfied: triton==2.0.0 in /usr/local/lib/python3.10/dist-packages (from torch>=1.8.0->ultralytics) (2.0.0)\n",
            "Requirement already satisfied: cmake in /usr/local/lib/python3.10/dist-packages (from triton==2.0.0->torch>=1.8.0->ultralytics) (3.27.6)\n",
            "Requirement already satisfied: lit in /usr/local/lib/python3.10/dist-packages (from triton==2.0.0->torch>=1.8.0->ultralytics) (17.0.2)\n",
            "Requirement already satisfied: six>=1.5 in /usr/local/lib/python3.10/dist-packages (from python-dateutil>=2.7->matplotlib>=3.3.0->ultralytics) (1.16.0)\n",
            "Requirement already satisfied: MarkupSafe>=2.0 in /usr/local/lib/python3.10/dist-packages (from jinja2->torch>=1.8.0->ultralytics) (2.1.3)\n",
            "Requirement already satisfied: mpmath>=0.19 in /usr/local/lib/python3.10/dist-packages (from sympy->torch>=1.8.0->ultralytics) (1.3.0)\n",
            "Installing collected packages: thop, ultralytics\n",
            "Successfully installed thop-0.1.1.post2209072238 ultralytics-8.0.198\n"
          ]
        }
      ]
    },
    {
      "cell_type": "code",
      "source": [
        "# Clone yolo git repo\n",
        "!git clone https://github.com/ultralytics/yolov5  # clone\n",
        "!pip install -r yolov5/requirements.txt  # install\n"
      ],
      "metadata": {
        "colab": {
          "base_uri": "https://localhost:8080/"
        },
        "id": "uHQqunnx8DW8",
        "outputId": "5c573106-ab26-4ad4-85c8-aa74b151d88d"
      },
      "execution_count": 22,
      "outputs": [
        {
          "output_type": "stream",
          "name": "stdout",
          "text": [
            "Cloning into 'yolov5'...\n",
            "remote: Enumerating objects: 16008, done.\u001b[K\n",
            "remote: Counting objects: 100% (41/41), done.\u001b[K\n",
            "remote: Compressing objects: 100% (28/28), done.\u001b[K\n",
            "remote: Total 16008 (delta 22), reused 20 (delta 13), pack-reused 15967\u001b[K\n",
            "Receiving objects: 100% (16008/16008), 14.60 MiB | 15.52 MiB/s, done.\n",
            "Resolving deltas: 100% (10988/10988), done.\n",
            "Collecting gitpython>=3.1.30 (from -r yolov5/requirements.txt (line 5))\n",
            "  Downloading GitPython-3.1.37-py3-none-any.whl (190 kB)\n",
            "\u001b[2K     \u001b[90m━━━━━━━━━━━━━━━━━━━━━━━━━━━━━━━━━━━━━━━━\u001b[0m \u001b[32m190.0/190.0 kB\u001b[0m \u001b[31m2.8 MB/s\u001b[0m eta \u001b[36m0:00:00\u001b[0m\n",
            "\u001b[?25hRequirement already satisfied: matplotlib>=3.3 in /usr/local/lib/python3.10/dist-packages (from -r yolov5/requirements.txt (line 6)) (3.7.1)\n",
            "Requirement already satisfied: numpy>=1.22.2 in /usr/local/lib/python3.10/dist-packages (from -r yolov5/requirements.txt (line 7)) (1.23.5)\n",
            "Requirement already satisfied: opencv-python>=4.1.1 in /usr/local/lib/python3.10/dist-packages (from -r yolov5/requirements.txt (line 8)) (4.8.0.76)\n",
            "Requirement already satisfied: Pillow>=7.1.2 in /usr/local/lib/python3.10/dist-packages (from -r yolov5/requirements.txt (line 9)) (9.4.0)\n",
            "Requirement already satisfied: psutil in /usr/local/lib/python3.10/dist-packages (from -r yolov5/requirements.txt (line 10)) (5.9.5)\n",
            "Requirement already satisfied: PyYAML>=5.3.1 in /usr/local/lib/python3.10/dist-packages (from -r yolov5/requirements.txt (line 11)) (6.0.1)\n",
            "Requirement already satisfied: requests>=2.23.0 in /usr/local/lib/python3.10/dist-packages (from -r yolov5/requirements.txt (line 12)) (2.31.0)\n",
            "Requirement already satisfied: scipy>=1.4.1 in /usr/local/lib/python3.10/dist-packages (from -r yolov5/requirements.txt (line 13)) (1.11.3)\n",
            "Requirement already satisfied: thop>=0.1.1 in /usr/local/lib/python3.10/dist-packages (from -r yolov5/requirements.txt (line 14)) (0.1.1.post2209072238)\n",
            "Requirement already satisfied: torch>=1.8.0 in /usr/local/lib/python3.10/dist-packages (from -r yolov5/requirements.txt (line 15)) (2.0.1+cu118)\n",
            "Requirement already satisfied: torchvision>=0.9.0 in /usr/local/lib/python3.10/dist-packages (from -r yolov5/requirements.txt (line 16)) (0.15.2+cu118)\n",
            "Requirement already satisfied: tqdm>=4.64.0 in /usr/local/lib/python3.10/dist-packages (from -r yolov5/requirements.txt (line 17)) (4.66.1)\n",
            "Requirement already satisfied: ultralytics>=8.0.147 in /usr/local/lib/python3.10/dist-packages (from -r yolov5/requirements.txt (line 18)) (8.0.198)\n",
            "Requirement already satisfied: pandas>=1.1.4 in /usr/local/lib/python3.10/dist-packages (from -r yolov5/requirements.txt (line 27)) (1.5.3)\n",
            "Requirement already satisfied: seaborn>=0.11.0 in /usr/local/lib/python3.10/dist-packages (from -r yolov5/requirements.txt (line 28)) (0.12.2)\n",
            "Requirement already satisfied: setuptools>=65.5.1 in /usr/local/lib/python3.10/dist-packages (from -r yolov5/requirements.txt (line 42)) (67.7.2)\n",
            "Collecting gitdb<5,>=4.0.1 (from gitpython>=3.1.30->-r yolov5/requirements.txt (line 5))\n",
            "  Downloading gitdb-4.0.10-py3-none-any.whl (62 kB)\n",
            "\u001b[2K     \u001b[90m━━━━━━━━━━━━━━━━━━━━━━━━━━━━━━━━━━━━━━━━\u001b[0m \u001b[32m62.7/62.7 kB\u001b[0m \u001b[31m6.8 MB/s\u001b[0m eta \u001b[36m0:00:00\u001b[0m\n",
            "\u001b[?25hRequirement already satisfied: contourpy>=1.0.1 in /usr/local/lib/python3.10/dist-packages (from matplotlib>=3.3->-r yolov5/requirements.txt (line 6)) (1.1.1)\n",
            "Requirement already satisfied: cycler>=0.10 in /usr/local/lib/python3.10/dist-packages (from matplotlib>=3.3->-r yolov5/requirements.txt (line 6)) (0.12.1)\n",
            "Requirement already satisfied: fonttools>=4.22.0 in /usr/local/lib/python3.10/dist-packages (from matplotlib>=3.3->-r yolov5/requirements.txt (line 6)) (4.43.1)\n",
            "Requirement already satisfied: kiwisolver>=1.0.1 in /usr/local/lib/python3.10/dist-packages (from matplotlib>=3.3->-r yolov5/requirements.txt (line 6)) (1.4.5)\n",
            "Requirement already satisfied: packaging>=20.0 in /usr/local/lib/python3.10/dist-packages (from matplotlib>=3.3->-r yolov5/requirements.txt (line 6)) (23.2)\n",
            "Requirement already satisfied: pyparsing>=2.3.1 in /usr/local/lib/python3.10/dist-packages (from matplotlib>=3.3->-r yolov5/requirements.txt (line 6)) (3.1.1)\n",
            "Requirement already satisfied: python-dateutil>=2.7 in /usr/local/lib/python3.10/dist-packages (from matplotlib>=3.3->-r yolov5/requirements.txt (line 6)) (2.8.2)\n",
            "Requirement already satisfied: charset-normalizer<4,>=2 in /usr/local/lib/python3.10/dist-packages (from requests>=2.23.0->-r yolov5/requirements.txt (line 12)) (3.3.0)\n",
            "Requirement already satisfied: idna<4,>=2.5 in /usr/local/lib/python3.10/dist-packages (from requests>=2.23.0->-r yolov5/requirements.txt (line 12)) (3.4)\n",
            "Requirement already satisfied: urllib3<3,>=1.21.1 in /usr/local/lib/python3.10/dist-packages (from requests>=2.23.0->-r yolov5/requirements.txt (line 12)) (2.0.6)\n",
            "Requirement already satisfied: certifi>=2017.4.17 in /usr/local/lib/python3.10/dist-packages (from requests>=2.23.0->-r yolov5/requirements.txt (line 12)) (2023.7.22)\n",
            "Requirement already satisfied: filelock in /usr/local/lib/python3.10/dist-packages (from torch>=1.8.0->-r yolov5/requirements.txt (line 15)) (3.12.4)\n",
            "Requirement already satisfied: typing-extensions in /usr/local/lib/python3.10/dist-packages (from torch>=1.8.0->-r yolov5/requirements.txt (line 15)) (4.5.0)\n",
            "Requirement already satisfied: sympy in /usr/local/lib/python3.10/dist-packages (from torch>=1.8.0->-r yolov5/requirements.txt (line 15)) (1.12)\n",
            "Requirement already satisfied: networkx in /usr/local/lib/python3.10/dist-packages (from torch>=1.8.0->-r yolov5/requirements.txt (line 15)) (3.1)\n",
            "Requirement already satisfied: jinja2 in /usr/local/lib/python3.10/dist-packages (from torch>=1.8.0->-r yolov5/requirements.txt (line 15)) (3.1.2)\n",
            "Requirement already satisfied: triton==2.0.0 in /usr/local/lib/python3.10/dist-packages (from torch>=1.8.0->-r yolov5/requirements.txt (line 15)) (2.0.0)\n",
            "Requirement already satisfied: cmake in /usr/local/lib/python3.10/dist-packages (from triton==2.0.0->torch>=1.8.0->-r yolov5/requirements.txt (line 15)) (3.27.6)\n",
            "Requirement already satisfied: lit in /usr/local/lib/python3.10/dist-packages (from triton==2.0.0->torch>=1.8.0->-r yolov5/requirements.txt (line 15)) (17.0.2)\n",
            "Requirement already satisfied: py-cpuinfo in /usr/local/lib/python3.10/dist-packages (from ultralytics>=8.0.147->-r yolov5/requirements.txt (line 18)) (9.0.0)\n",
            "Requirement already satisfied: pytz>=2020.1 in /usr/local/lib/python3.10/dist-packages (from pandas>=1.1.4->-r yolov5/requirements.txt (line 27)) (2023.3.post1)\n",
            "Collecting smmap<6,>=3.0.1 (from gitdb<5,>=4.0.1->gitpython>=3.1.30->-r yolov5/requirements.txt (line 5))\n",
            "  Downloading smmap-5.0.1-py3-none-any.whl (24 kB)\n",
            "Requirement already satisfied: six>=1.5 in /usr/local/lib/python3.10/dist-packages (from python-dateutil>=2.7->matplotlib>=3.3->-r yolov5/requirements.txt (line 6)) (1.16.0)\n",
            "Requirement already satisfied: MarkupSafe>=2.0 in /usr/local/lib/python3.10/dist-packages (from jinja2->torch>=1.8.0->-r yolov5/requirements.txt (line 15)) (2.1.3)\n",
            "Requirement already satisfied: mpmath>=0.19 in /usr/local/lib/python3.10/dist-packages (from sympy->torch>=1.8.0->-r yolov5/requirements.txt (line 15)) (1.3.0)\n",
            "Installing collected packages: smmap, gitdb, gitpython\n",
            "Successfully installed gitdb-4.0.10 gitpython-3.1.37 smmap-5.0.1\n"
          ]
        }
      ]
    },
    {
      "cell_type": "code",
      "source": [
        "# Set seed for different shuffling\n",
        "random.seed(1)"
      ],
      "metadata": {
        "id": "RuJXh6Ku8XTC"
      },
      "execution_count": 23,
      "outputs": []
    },
    {
      "cell_type": "code",
      "source": [
        "# Train YOLO5 for 75 epochs\n",
        "!python yolov5/train.py --img 800 --batch 48 --epochs 50 --data dataset.yml --name 'mar results' --patience 50 --weights \"last (4).pt\" --hyp hyps.yml"
      ],
      "metadata": {
        "colab": {
          "base_uri": "https://localhost:8080/"
        },
        "id": "FotTrxHT8Et-",
        "outputId": "ef955d46-ab0b-4d5e-d64b-74b9b1c42911"
      },
      "execution_count": 32,
      "outputs": [
        {
          "output_type": "stream",
          "name": "stdout",
          "text": [
            "\u001b[34m\u001b[1mtrain: \u001b[0mweights=last (4).pt, cfg=, data=dataset.yml, hyp=hyps.yml, epochs=50, batch_size=48, imgsz=800, rect=False, resume=False, nosave=False, noval=False, noautoanchor=False, noplots=False, evolve=None, bucket=, cache=None, image_weights=False, device=, multi_scale=False, single_cls=False, optimizer=SGD, sync_bn=False, workers=8, project=yolov5/runs/train, name=mar results, exist_ok=False, quad=False, cos_lr=False, label_smoothing=0.0, patience=50, freeze=[0], save_period=-1, seed=0, local_rank=-1, entity=None, upload_dataset=False, bbox_interval=-1, artifact_alias=latest\n",
            "\u001b[34m\u001b[1mgithub: \u001b[0mup to date with https://github.com/ultralytics/yolov5 ✅\n",
            "YOLOv5 🚀 v7.0-227-ge4df1ec Python-3.10.12 torch-2.0.1+cu118 CUDA:0 (Tesla T4, 15102MiB)\n",
            "\n",
            "\u001b[34m\u001b[1mhyperparameters: \u001b[0manchor_t=4.0, box=0.05, cls=0.5, cls_pw=1.0, copy_paste=0.0, degrees=0.0, fl_gamma=0.0, fliplr=0.0, flipud=0.0, hsv_h=0.015, hsv_s=0.5, hsv_v=0.4, iou_t=0.2, lr0=0.001, lrf=0.9, mixup=0.0, momentum=0.937, mosaic=1.0, obj=1.0, obj_pw=1.0, perspective=0.0, scale=0.4, shear=0.0, translate=0.1, warmup_bias_lr=0.1, warmup_epochs=3.0, warmup_momentum=0.8, weight_decay=0.0005\n",
            "\u001b[34m\u001b[1mComet: \u001b[0mrun 'pip install comet_ml' to automatically track and visualize YOLOv5 🚀 runs in Comet\n",
            "\u001b[34m\u001b[1mTensorBoard: \u001b[0mStart with 'tensorboard --logdir yolov5/runs/train', view at http://localhost:6006/\n",
            "\n",
            "                 from  n    params  module                                  arguments                     \n",
            "  0                -1  1      3520  models.common.Conv                      [3, 32, 6, 2, 2]              \n",
            "  1                -1  1     18560  models.common.Conv                      [32, 64, 3, 2]                \n",
            "  2                -1  1     18816  models.common.C3                        [64, 64, 1]                   \n",
            "  3                -1  1     73984  models.common.Conv                      [64, 128, 3, 2]               \n",
            "  4                -1  2    115712  models.common.C3                        [128, 128, 2]                 \n",
            "  5                -1  1    295424  models.common.Conv                      [128, 256, 3, 2]              \n",
            "  6                -1  3    625152  models.common.C3                        [256, 256, 3]                 \n",
            "  7                -1  1   1180672  models.common.Conv                      [256, 512, 3, 2]              \n",
            "  8                -1  1   1182720  models.common.C3                        [512, 512, 1]                 \n",
            "  9                -1  1    656896  models.common.SPPF                      [512, 512, 5]                 \n",
            " 10                -1  1    131584  models.common.Conv                      [512, 256, 1, 1]              \n",
            " 11                -1  1         0  torch.nn.modules.upsampling.Upsample    [None, 2, 'nearest']          \n",
            " 12           [-1, 6]  1         0  models.common.Concat                    [1]                           \n",
            " 13                -1  1    361984  models.common.C3                        [512, 256, 1, False]          \n",
            " 14                -1  1     33024  models.common.Conv                      [256, 128, 1, 1]              \n",
            " 15                -1  1         0  torch.nn.modules.upsampling.Upsample    [None, 2, 'nearest']          \n",
            " 16           [-1, 4]  1         0  models.common.Concat                    [1]                           \n",
            " 17                -1  1     90880  models.common.C3                        [256, 128, 1, False]          \n",
            " 18                -1  1    147712  models.common.Conv                      [128, 128, 3, 2]              \n",
            " 19          [-1, 14]  1         0  models.common.Concat                    [1]                           \n",
            " 20                -1  1    296448  models.common.C3                        [256, 256, 1, False]          \n",
            " 21                -1  1    590336  models.common.Conv                      [256, 256, 3, 2]              \n",
            " 22          [-1, 10]  1         0  models.common.Concat                    [1]                           \n",
            " 23                -1  1   1182720  models.common.C3                        [512, 512, 1, False]          \n",
            " 24      [17, 20, 23]  1     67425  models.yolo.Detect                      [20, [[10, 13, 16, 30, 33, 23], [30, 61, 62, 45, 59, 119], [116, 90, 156, 198, 373, 326]], [128, 256, 512]]\n",
            "Model summary: 214 layers, 7073569 parameters, 7073569 gradients, 16.1 GFLOPs\n",
            "\n",
            "Transferred 349/349 items from last (4).pt\n",
            "\u001b[34m\u001b[1mAMP: \u001b[0mchecks passed ✅\n",
            "\u001b[34m\u001b[1moptimizer:\u001b[0m SGD(lr=0.001) with parameter groups 57 weight(decay=0.0), 60 weight(decay=0.000375), 60 bias\n",
            "\u001b[34m\u001b[1malbumentations: \u001b[0mBlur(p=0.01, blur_limit=(3, 7)), MedianBlur(p=0.01, blur_limit=(3, 7)), ToGray(p=0.01), CLAHE(p=0.01, clip_limit=(1, 4.0), tile_grid_size=(8, 8)), Rotate(p=0.7, limit=(-90, 90), interpolation=1, border_mode=4, value=None, mask_value=None, rotate_method='largest_box', crop_border=False), VerticalFlip(p=0.5), HorizontalFlip(p=0.1)\n",
            "\u001b[34m\u001b[1mtrain: \u001b[0mScanning /content/data for yolo/labels/train.cache... 1331 images, 0 backgrounds, 0 corrupt: 100% 1331/1331 [00:00<?, ?it/s]\n",
            "\u001b[34m\u001b[1mval: \u001b[0mScanning /content/data for yolo/labels/test.cache... 2511 images, 0 backgrounds, 0 corrupt: 100% 2511/2511 [00:00<?, ?it/s]\n",
            "\n",
            "\u001b[34m\u001b[1mAutoAnchor: \u001b[0m5.59 anchors/target, 1.000 Best Possible Recall (BPR). Current anchors are a good fit to dataset ✅\n",
            "Plotting labels to yolov5/runs/train/mar results4/labels.jpg... \n",
            "MODEL CLASS WEIGHTS\n",
            "tensor([0.55446, 0.51943, 0.66922, 0.36658, 0.66153, 0.51295, 1.43883, 0.91065, 0.65550, 1.90574, 0.43667, 0.78840, 0.39099, 0.78197, 0.60582, 1.60763, 1.79854, 1.50663, 1.19903, 2.68940], device='cuda:0')\n",
            "Image sizes 800 train, 800 val\n",
            "Using 2 dataloader workers\n",
            "Logging results to \u001b[1myolov5/runs/train/mar results4\u001b[0m\n",
            "Starting training for 50 epochs...\n",
            "\n",
            "      Epoch    GPU_mem   box_loss   obj_loss   cls_loss  Instances       Size\n",
            "       0/49      14.3G    0.02422    0.03465   0.009782        244        800: 100% 28/28 [01:43<00:00,  3.69s/it]\n",
            "                 Class     Images  Instances          P          R      mAP50   mAP50-95: 100% 27/27 [00:59<00:00,  2.19s/it]\n",
            "                   all       2511      14471      0.846      0.857      0.901      0.635\n",
            "\n",
            "      Epoch    GPU_mem   box_loss   obj_loss   cls_loss  Instances       Size\n",
            "       1/49      14.3G    0.02254    0.03381   0.009132        271        800: 100% 28/28 [01:34<00:00,  3.38s/it]\n",
            "                 Class     Images  Instances          P          R      mAP50   mAP50-95: 100% 27/27 [00:59<00:00,  2.21s/it]\n",
            "                   all       2511      14471      0.871      0.851      0.911      0.659\n",
            "\n",
            "      Epoch    GPU_mem   box_loss   obj_loss   cls_loss  Instances       Size\n",
            "       2/49      14.3G    0.02247    0.03194   0.008626        230        800: 100% 28/28 [01:32<00:00,  3.30s/it]\n",
            "                 Class     Images  Instances          P          R      mAP50   mAP50-95: 100% 27/27 [01:01<00:00,  2.26s/it]\n",
            "                   all       2511      14471      0.856      0.854      0.906      0.655\n",
            "\n",
            "      Epoch    GPU_mem   box_loss   obj_loss   cls_loss  Instances       Size\n",
            "       3/49      14.3G    0.02257    0.03236   0.008004        262        800: 100% 28/28 [01:32<00:00,  3.32s/it]\n",
            "                 Class     Images  Instances          P          R      mAP50   mAP50-95: 100% 27/27 [01:01<00:00,  2.29s/it]\n",
            "                   all       2511      14471      0.862       0.85      0.908      0.648\n",
            "\n",
            "      Epoch    GPU_mem   box_loss   obj_loss   cls_loss  Instances       Size\n",
            "       4/49      14.3G    0.02287    0.03157   0.008306        223        800: 100% 28/28 [01:34<00:00,  3.39s/it]\n",
            "                 Class     Images  Instances          P          R      mAP50   mAP50-95: 100% 27/27 [01:00<00:00,  2.22s/it]\n",
            "                   all       2511      14471      0.875      0.867      0.922      0.664\n",
            "\n",
            "      Epoch    GPU_mem   box_loss   obj_loss   cls_loss  Instances       Size\n",
            "       5/49      14.3G    0.02281     0.0312   0.007968        247        800: 100% 28/28 [01:32<00:00,  3.31s/it]\n",
            "                 Class     Images  Instances          P          R      mAP50   mAP50-95: 100% 27/27 [01:00<00:00,  2.25s/it]\n",
            "                   all       2511      14471      0.839      0.844      0.894      0.645\n",
            "\n",
            "      Epoch    GPU_mem   box_loss   obj_loss   cls_loss  Instances       Size\n",
            "       6/49      14.3G    0.02234    0.03246   0.007733        316        800: 100% 28/28 [01:31<00:00,  3.26s/it]\n",
            "                 Class     Images  Instances          P          R      mAP50   mAP50-95: 100% 27/27 [00:58<00:00,  2.18s/it]\n",
            "                   all       2511      14471      0.869      0.858      0.913      0.647\n",
            "\n",
            "      Epoch    GPU_mem   box_loss   obj_loss   cls_loss  Instances       Size\n",
            "       7/49      14.3G     0.0232    0.03369   0.007636        254        800: 100% 28/28 [01:34<00:00,  3.39s/it]\n",
            "                 Class     Images  Instances          P          R      mAP50   mAP50-95: 100% 27/27 [01:00<00:00,  2.26s/it]\n",
            "                   all       2511      14471      0.876      0.862      0.919      0.665\n",
            "\n",
            "      Epoch    GPU_mem   box_loss   obj_loss   cls_loss  Instances       Size\n",
            "       8/49      14.3G    0.02273    0.03261   0.007284        334        800: 100% 28/28 [01:32<00:00,  3.31s/it]\n",
            "                 Class     Images  Instances          P          R      mAP50   mAP50-95: 100% 27/27 [00:59<00:00,  2.22s/it]\n",
            "                   all       2511      14471      0.879      0.867      0.923      0.673\n",
            "\n",
            "      Epoch    GPU_mem   box_loss   obj_loss   cls_loss  Instances       Size\n",
            "       9/49      14.3G    0.02281     0.0325   0.006976        281        800: 100% 28/28 [01:35<00:00,  3.43s/it]\n",
            "                 Class     Images  Instances          P          R      mAP50   mAP50-95: 100% 27/27 [00:59<00:00,  2.20s/it]\n",
            "                   all       2511      14471      0.866      0.869       0.92      0.666\n",
            "\n",
            "      Epoch    GPU_mem   box_loss   obj_loss   cls_loss  Instances       Size\n",
            "      10/49      14.3G    0.02312    0.03151   0.007522        342        800: 100% 28/28 [01:33<00:00,  3.34s/it]\n",
            "                 Class     Images  Instances          P          R      mAP50   mAP50-95: 100% 27/27 [00:59<00:00,  2.20s/it]\n",
            "                   all       2511      14471       0.86      0.853      0.909      0.649\n",
            "\n",
            "      Epoch    GPU_mem   box_loss   obj_loss   cls_loss  Instances       Size\n",
            "      11/49      14.3G    0.02286    0.03179   0.007217        281        800: 100% 28/28 [01:32<00:00,  3.31s/it]\n",
            "                 Class     Images  Instances          P          R      mAP50   mAP50-95: 100% 27/27 [01:00<00:00,  2.24s/it]\n",
            "                   all       2511      14471      0.867      0.861      0.921      0.672\n",
            "\n",
            "      Epoch    GPU_mem   box_loss   obj_loss   cls_loss  Instances       Size\n",
            "      12/49      14.3G    0.02244    0.03238   0.007117        288        800: 100% 28/28 [01:32<00:00,  3.30s/it]\n",
            "                 Class     Images  Instances          P          R      mAP50   mAP50-95: 100% 27/27 [01:01<00:00,  2.27s/it]\n",
            "                   all       2511      14471      0.869      0.852      0.919      0.665\n",
            "\n",
            "      Epoch    GPU_mem   box_loss   obj_loss   cls_loss  Instances       Size\n",
            "      13/49      14.3G    0.02292    0.03238   0.006802        338        800: 100% 28/28 [01:34<00:00,  3.39s/it]\n",
            "                 Class     Images  Instances          P          R      mAP50   mAP50-95: 100% 27/27 [00:58<00:00,  2.18s/it]\n",
            "                   all       2511      14471      0.865      0.849      0.914      0.656\n",
            "\n",
            "      Epoch    GPU_mem   box_loss   obj_loss   cls_loss  Instances       Size\n",
            "      14/49      14.3G    0.02303    0.03159   0.007428        269        800: 100% 28/28 [01:33<00:00,  3.35s/it]\n",
            "                 Class     Images  Instances          P          R      mAP50   mAP50-95: 100% 27/27 [00:59<00:00,  2.22s/it]\n",
            "                   all       2511      14471      0.855       0.86      0.917      0.667\n",
            "\n",
            "      Epoch    GPU_mem   box_loss   obj_loss   cls_loss  Instances       Size\n",
            "      15/49      14.3G    0.02301    0.03128   0.007178        219        800: 100% 28/28 [01:34<00:00,  3.36s/it]\n",
            "                 Class     Images  Instances          P          R      mAP50   mAP50-95: 100% 27/27 [01:01<00:00,  2.27s/it]\n",
            "                   all       2511      14471      0.871       0.86      0.924      0.665\n",
            "\n",
            "      Epoch    GPU_mem   box_loss   obj_loss   cls_loss  Instances       Size\n",
            "      16/49      14.3G    0.02283    0.03128   0.007449        253        800: 100% 28/28 [01:36<00:00,  3.46s/it]\n",
            "                 Class     Images  Instances          P          R      mAP50   mAP50-95: 100% 27/27 [00:59<00:00,  2.21s/it]\n",
            "                   all       2511      14471      0.855      0.854      0.915       0.66\n",
            "\n",
            "      Epoch    GPU_mem   box_loss   obj_loss   cls_loss  Instances       Size\n",
            "      17/49      14.3G     0.0228    0.03247   0.006745        265        800: 100% 28/28 [01:36<00:00,  3.44s/it]\n",
            "                 Class     Images  Instances          P          R      mAP50   mAP50-95: 100% 27/27 [01:02<00:00,  2.32s/it]\n",
            "                   all       2511      14471       0.86      0.851      0.914      0.667\n",
            "\n",
            "      Epoch    GPU_mem   box_loss   obj_loss   cls_loss  Instances       Size\n",
            "      18/49      14.3G    0.02282    0.03154   0.006931        328        800: 100% 28/28 [01:36<00:00,  3.46s/it]\n",
            "                 Class     Images  Instances          P          R      mAP50   mAP50-95: 100% 27/27 [01:00<00:00,  2.25s/it]\n",
            "                   all       2511      14471      0.874      0.859      0.922       0.66\n",
            "\n",
            "      Epoch    GPU_mem   box_loss   obj_loss   cls_loss  Instances       Size\n",
            "      19/49      14.3G    0.02261    0.03213   0.007036        213        800: 100% 28/28 [01:35<00:00,  3.40s/it]\n",
            "                 Class     Images  Instances          P          R      mAP50   mAP50-95: 100% 27/27 [01:02<00:00,  2.30s/it]\n",
            "                   all       2511      14471      0.865      0.855      0.921      0.659\n",
            "\n",
            "      Epoch    GPU_mem   box_loss   obj_loss   cls_loss  Instances       Size\n",
            "      20/49      14.3G    0.02246    0.03229   0.006854        292        800: 100% 28/28 [01:35<00:00,  3.42s/it]\n",
            "                 Class     Images  Instances          P          R      mAP50   mAP50-95: 100% 27/27 [01:01<00:00,  2.27s/it]\n",
            "                   all       2511      14471      0.878      0.866      0.926      0.667\n",
            "\n",
            "      Epoch    GPU_mem   box_loss   obj_loss   cls_loss  Instances       Size\n",
            "      21/49      14.3G    0.02271     0.0313    0.00657        242        800: 100% 28/28 [01:37<00:00,  3.47s/it]\n",
            "                 Class     Images  Instances          P          R      mAP50   mAP50-95: 100% 27/27 [01:02<00:00,  2.31s/it]\n",
            "                   all       2511      14471      0.893      0.871      0.933      0.666\n",
            "\n",
            "      Epoch    GPU_mem   box_loss   obj_loss   cls_loss  Instances       Size\n",
            "      22/49      14.3G    0.02292    0.03132   0.006548        218        800: 100% 28/28 [01:36<00:00,  3.45s/it]\n",
            "                 Class     Images  Instances          P          R      mAP50   mAP50-95: 100% 27/27 [01:01<00:00,  2.28s/it]\n",
            "                   all       2511      14471      0.891      0.881      0.935      0.686\n",
            "\n",
            "      Epoch    GPU_mem   box_loss   obj_loss   cls_loss  Instances       Size\n",
            "      23/49      14.3G    0.02222    0.03159   0.005962        244        800: 100% 28/28 [01:35<00:00,  3.43s/it]\n",
            "                 Class     Images  Instances          P          R      mAP50   mAP50-95: 100% 27/27 [01:00<00:00,  2.26s/it]\n",
            "                   all       2511      14471      0.875      0.868      0.927      0.675\n",
            "\n",
            "      Epoch    GPU_mem   box_loss   obj_loss   cls_loss  Instances       Size\n",
            "      24/49      14.3G    0.02259    0.03263   0.006034        316        800: 100% 28/28 [01:35<00:00,  3.43s/it]\n",
            "                 Class     Images  Instances          P          R      mAP50   mAP50-95: 100% 27/27 [01:02<00:00,  2.33s/it]\n",
            "                   all       2511      14471      0.883      0.877      0.932       0.68\n",
            "\n",
            "      Epoch    GPU_mem   box_loss   obj_loss   cls_loss  Instances       Size\n",
            "      25/49      14.3G    0.02252    0.03318   0.006329        289        800: 100% 28/28 [01:37<00:00,  3.47s/it]\n",
            "                 Class     Images  Instances          P          R      mAP50   mAP50-95: 100% 27/27 [01:00<00:00,  2.24s/it]\n",
            "                   all       2511      14471      0.889       0.87      0.932       0.68\n",
            "\n",
            "      Epoch    GPU_mem   box_loss   obj_loss   cls_loss  Instances       Size\n",
            "      26/49      14.3G    0.02234    0.03174   0.006231        260        800: 100% 28/28 [01:35<00:00,  3.42s/it]\n",
            "                 Class     Images  Instances          P          R      mAP50   mAP50-95: 100% 27/27 [01:01<00:00,  2.29s/it]\n",
            "                   all       2511      14471      0.888      0.873      0.933       0.68\n",
            "\n",
            "      Epoch    GPU_mem   box_loss   obj_loss   cls_loss  Instances       Size\n",
            "      27/49      14.3G    0.02269    0.03161   0.006178        278        800: 100% 28/28 [01:34<00:00,  3.38s/it]\n",
            "                 Class     Images  Instances          P          R      mAP50   mAP50-95: 100% 27/27 [01:01<00:00,  2.29s/it]\n",
            "                   all       2511      14471      0.884      0.875      0.933      0.682\n",
            "\n",
            "      Epoch    GPU_mem   box_loss   obj_loss   cls_loss  Instances       Size\n",
            "      28/49      14.3G     0.0226    0.03218   0.006013        278        800: 100% 28/28 [01:35<00:00,  3.42s/it]\n",
            "                 Class     Images  Instances          P          R      mAP50   mAP50-95: 100% 27/27 [00:59<00:00,  2.21s/it]\n",
            "                   all       2511      14471      0.876      0.866      0.929      0.672\n",
            "\n",
            "      Epoch    GPU_mem   box_loss   obj_loss   cls_loss  Instances       Size\n",
            "      29/49      14.3G    0.02212    0.03107   0.006298        264        800: 100% 28/28 [01:33<00:00,  3.33s/it]\n",
            "                 Class     Images  Instances          P          R      mAP50   mAP50-95: 100% 27/27 [00:58<00:00,  2.17s/it]\n",
            "                   all       2511      14471      0.884      0.856       0.93      0.669\n",
            "\n",
            "      Epoch    GPU_mem   box_loss   obj_loss   cls_loss  Instances       Size\n",
            "      30/49      14.3G    0.02233    0.03073   0.006205        275        800: 100% 28/28 [01:34<00:00,  3.39s/it]\n",
            "                 Class     Images  Instances          P          R      mAP50   mAP50-95: 100% 27/27 [01:01<00:00,  2.29s/it]\n",
            "                   all       2511      14471      0.877       0.87      0.926      0.677\n",
            "\n",
            "      Epoch    GPU_mem   box_loss   obj_loss   cls_loss  Instances       Size\n",
            "      31/49      14.3G    0.02244    0.03184   0.006074        234        800: 100% 28/28 [01:32<00:00,  3.32s/it]\n",
            "                 Class     Images  Instances          P          R      mAP50   mAP50-95: 100% 27/27 [01:00<00:00,  2.24s/it]\n",
            "                   all       2511      14471      0.875      0.879       0.93      0.683\n",
            "\n",
            "      Epoch    GPU_mem   box_loss   obj_loss   cls_loss  Instances       Size\n",
            "      32/49      14.3G    0.02248    0.03178   0.005617        348        800: 100% 28/28 [01:36<00:00,  3.46s/it]\n",
            "                 Class     Images  Instances          P          R      mAP50   mAP50-95: 100% 27/27 [01:02<00:00,  2.30s/it]\n",
            "                   all       2511      14471      0.868      0.863      0.921      0.674\n",
            "\n",
            "      Epoch    GPU_mem   box_loss   obj_loss   cls_loss  Instances       Size\n",
            "      33/49      14.3G    0.02253    0.03151   0.006034        305        800: 100% 28/28 [01:34<00:00,  3.37s/it]\n",
            "                 Class     Images  Instances          P          R      mAP50   mAP50-95: 100% 27/27 [01:02<00:00,  2.30s/it]\n",
            "                   all       2511      14471      0.885      0.871      0.927      0.678\n",
            "\n",
            "      Epoch    GPU_mem   box_loss   obj_loss   cls_loss  Instances       Size\n",
            "      34/49      14.3G    0.02225    0.03222   0.005855        250        800: 100% 28/28 [01:36<00:00,  3.44s/it]\n",
            "                 Class     Images  Instances          P          R      mAP50   mAP50-95: 100% 27/27 [01:02<00:00,  2.31s/it]\n",
            "                   all       2511      14471      0.899      0.866      0.938      0.687\n",
            "\n",
            "      Epoch    GPU_mem   box_loss   obj_loss   cls_loss  Instances       Size\n",
            "      35/49      14.3G    0.02228    0.03118   0.005898        273        800: 100% 28/28 [01:36<00:00,  3.44s/it]\n",
            "                 Class     Images  Instances          P          R      mAP50   mAP50-95: 100% 27/27 [01:02<00:00,  2.33s/it]\n",
            "                   all       2511      14471      0.874      0.869      0.931      0.679\n",
            "\n",
            "      Epoch    GPU_mem   box_loss   obj_loss   cls_loss  Instances       Size\n",
            "      36/49      14.3G    0.02243    0.03217   0.005563        270        800: 100% 28/28 [01:37<00:00,  3.49s/it]\n",
            "                 Class     Images  Instances          P          R      mAP50   mAP50-95: 100% 27/27 [01:02<00:00,  2.32s/it]\n",
            "                   all       2511      14471       0.88      0.865       0.93       0.68\n",
            "\n",
            "      Epoch    GPU_mem   box_loss   obj_loss   cls_loss  Instances       Size\n",
            "      37/49      14.3G     0.0221    0.03106   0.006079        287        800: 100% 28/28 [01:36<00:00,  3.43s/it]\n",
            "                 Class     Images  Instances          P          R      mAP50   mAP50-95: 100% 27/27 [01:00<00:00,  2.24s/it]\n",
            "                   all       2511      14471      0.899      0.872      0.939      0.684\n",
            "\n",
            "      Epoch    GPU_mem   box_loss   obj_loss   cls_loss  Instances       Size\n",
            "      38/49      14.3G    0.02247    0.03038   0.005764        257        800: 100% 28/28 [01:37<00:00,  3.48s/it]\n",
            "                 Class     Images  Instances          P          R      mAP50   mAP50-95: 100% 27/27 [00:59<00:00,  2.20s/it]\n",
            "                   all       2511      14471      0.888      0.866      0.929      0.678\n",
            "\n",
            "      Epoch    GPU_mem   box_loss   obj_loss   cls_loss  Instances       Size\n",
            "      39/49      14.3G    0.02215    0.03194   0.005694        320        800: 100% 28/28 [01:35<00:00,  3.42s/it]\n",
            "                 Class     Images  Instances          P          R      mAP50   mAP50-95: 100% 27/27 [01:01<00:00,  2.27s/it]\n",
            "                   all       2511      14471      0.893       0.88      0.938      0.686\n",
            "\n",
            "      Epoch    GPU_mem   box_loss   obj_loss   cls_loss  Instances       Size\n",
            "      40/49      14.3G    0.02189    0.03154   0.005791        234        800: 100% 28/28 [01:33<00:00,  3.34s/it]\n",
            "                 Class     Images  Instances          P          R      mAP50   mAP50-95: 100% 27/27 [01:00<00:00,  2.23s/it]\n",
            "                   all       2511      14471      0.887      0.876      0.932      0.685\n",
            "\n",
            "      Epoch    GPU_mem   box_loss   obj_loss   cls_loss  Instances       Size\n",
            "      41/49      14.3G     0.0224    0.03151   0.006023        259        800: 100% 28/28 [01:33<00:00,  3.34s/it]\n",
            "                 Class     Images  Instances          P          R      mAP50   mAP50-95: 100% 27/27 [00:59<00:00,  2.20s/it]\n",
            "                   all       2511      14471      0.879       0.88      0.933      0.683\n",
            "\n",
            "      Epoch    GPU_mem   box_loss   obj_loss   cls_loss  Instances       Size\n",
            "      42/49      14.3G    0.02207    0.03188   0.005551        270        800: 100% 28/28 [01:35<00:00,  3.39s/it]\n",
            "                 Class     Images  Instances          P          R      mAP50   mAP50-95: 100% 27/27 [00:59<00:00,  2.21s/it]\n",
            "                   all       2511      14471      0.882      0.888      0.936      0.686\n",
            "\n",
            "      Epoch    GPU_mem   box_loss   obj_loss   cls_loss  Instances       Size\n",
            "      43/49      14.3G    0.02259    0.03009   0.006136        331        800: 100% 28/28 [01:34<00:00,  3.37s/it]\n",
            "                 Class     Images  Instances          P          R      mAP50   mAP50-95: 100% 27/27 [01:01<00:00,  2.27s/it]\n",
            "                   all       2511      14471      0.885      0.871      0.929      0.678\n",
            "\n",
            "      Epoch    GPU_mem   box_loss   obj_loss   cls_loss  Instances       Size\n",
            "      44/49      14.3G     0.0219    0.03107   0.005311        248        800: 100% 28/28 [01:34<00:00,  3.36s/it]\n",
            "                 Class     Images  Instances          P          R      mAP50   mAP50-95: 100% 27/27 [01:01<00:00,  2.27s/it]\n",
            "                   all       2511      14471      0.896      0.874      0.933      0.685\n",
            "\n",
            "      Epoch    GPU_mem   box_loss   obj_loss   cls_loss  Instances       Size\n",
            "      45/49      14.3G    0.02213    0.03121   0.005454        293        800: 100% 28/28 [01:34<00:00,  3.38s/it]\n",
            "                 Class     Images  Instances          P          R      mAP50   mAP50-95: 100% 27/27 [00:59<00:00,  2.21s/it]\n",
            "                   all       2511      14471       0.89      0.864      0.929      0.676\n",
            "\n",
            "      Epoch    GPU_mem   box_loss   obj_loss   cls_loss  Instances       Size\n",
            "      46/49      14.3G    0.02158    0.03101   0.005482        319        800: 100% 28/28 [01:32<00:00,  3.30s/it]\n",
            "                 Class     Images  Instances          P          R      mAP50   mAP50-95: 100% 27/27 [00:57<00:00,  2.15s/it]\n",
            "                   all       2511      14471      0.888      0.881      0.937      0.686\n",
            "\n",
            "      Epoch    GPU_mem   box_loss   obj_loss   cls_loss  Instances       Size\n",
            "      47/49      14.3G    0.02193    0.03183   0.005188        266        800: 100% 28/28 [01:31<00:00,  3.27s/it]\n",
            "                 Class     Images  Instances          P          R      mAP50   mAP50-95: 100% 27/27 [00:57<00:00,  2.12s/it]\n",
            "                   all       2511      14471      0.892      0.869      0.935      0.684\n",
            "\n",
            "      Epoch    GPU_mem   box_loss   obj_loss   cls_loss  Instances       Size\n",
            "      48/49      14.3G    0.02183    0.03038   0.004992        225        800: 100% 28/28 [01:32<00:00,  3.32s/it]\n",
            "                 Class     Images  Instances          P          R      mAP50   mAP50-95: 100% 27/27 [00:57<00:00,  2.14s/it]\n",
            "                   all       2511      14471      0.885      0.855      0.925      0.678\n",
            "\n",
            "      Epoch    GPU_mem   box_loss   obj_loss   cls_loss  Instances       Size\n",
            "      49/49      14.3G    0.02166    0.03073   0.005225        249        800: 100% 28/28 [01:31<00:00,  3.28s/it]\n",
            "                 Class     Images  Instances          P          R      mAP50   mAP50-95: 100% 27/27 [00:57<00:00,  2.14s/it]\n",
            "                   all       2511      14471      0.874      0.875      0.934      0.689\n",
            "\n",
            "50 epochs completed in 2.180 hours.\n",
            "Optimizer stripped from yolov5/runs/train/mar results4/weights/last.pt, 14.6MB\n",
            "Optimizer stripped from yolov5/runs/train/mar results4/weights/best.pt, 14.6MB\n",
            "\n",
            "Validating yolov5/runs/train/mar results4/weights/best.pt...\n",
            "Fusing layers... \n",
            "Model summary: 157 layers, 7064065 parameters, 0 gradients, 15.9 GFLOPs\n",
            "                 Class     Images  Instances          P          R      mAP50   mAP50-95: 100% 27/27 [01:14<00:00,  2.77s/it]\n",
            "                   all       2511      14471      0.874      0.875      0.934      0.689\n",
            "                   A19       2511        717      0.689      0.914      0.872      0.617\n",
            "                    A1       2511       1092      0.918      0.675      0.905      0.705\n",
            "                   A20       2511        551      0.969      0.853      0.942      0.647\n",
            "                   A16       2511       1847      0.983      0.688      0.943      0.711\n",
            "                    A5       2511        827      0.866      0.806      0.905      0.595\n",
            "                   A13       2511       1091      0.794      0.765      0.847      0.579\n",
            "                   A15       2511        418       0.57      0.849      0.808      0.521\n",
            "                    A3       2511        860      0.845      0.953      0.962      0.672\n",
            "                   A17       2511        958       0.98      0.975      0.989      0.774\n",
            "                   A11       2511        356      0.833      0.781      0.875      0.677\n",
            "                   A14       2511       1119      0.965      0.816      0.964      0.727\n",
            "                    A8       2511        579      0.879      0.949      0.972      0.753\n",
            "                    A2       2511        993       0.99      0.894      0.983      0.699\n",
            "                   A10       2511        556      0.911      0.991      0.993      0.695\n",
            "                    A9       2511        611      0.949      0.923      0.962      0.698\n",
            "                    A4       2511        463      0.788      0.873      0.914      0.691\n",
            "                   A18       2511        148      0.789      0.885      0.903      0.699\n",
            "                    A7       2511        489      0.904      0.986      0.983       0.79\n",
            "                   A12       2511        462      0.878       0.95      0.965      0.756\n",
            "                    A6       2511        334      0.975      0.976      0.993       0.77\n",
            "Results saved to \u001b[1myolov5/runs/train/mar results4\u001b[0m\n"
          ]
        }
      ]
    },
    {
      "cell_type": "code",
      "source": [
        "cw = [0.55446, 0.51943, 0.66922, 0.36658, 0.66153, 0.51295, 1.43883, 0.91065, 0.65550, 1.90574, 0.43667, 0.78840, 0.39099, 0.78197, 0.60582, 1.60763, 1.79854, 1.50663, 1.19903, 2.68940]"
      ],
      "metadata": {
        "id": "GtzHBqkK-EHs"
      },
      "execution_count": null,
      "outputs": []
    }
  ]
}